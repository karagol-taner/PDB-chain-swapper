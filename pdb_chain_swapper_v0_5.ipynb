{
  "cells": [
    {
      "cell_type": "markdown",
      "metadata": {
        "id": "view-in-github",
        "colab_type": "text"
      },
      "source": [
        "<a href=\"https://colab.research.google.com/github/karagol-taner/pdb-chain-swapper/blob/main/pdb_chain_swapper_v0_5.ipynb\" target=\"_parent\"><img src=\"https://colab.research.google.com/assets/colab-badge.svg\" alt=\"Open In Colab\"/></a>"
      ]
    },
    {
      "cell_type": "markdown",
      "source": [
        "**For 2 chains:**"
      ],
      "metadata": {
        "id": "4B7_LfkVvmT7"
      }
    },
    {
      "cell_type": "code",
      "source": [
        "def swap_and_renumber_pdb(input_pdb, output_pdb):\n",
        "    with open(input_pdb, 'r') as infile, open(output_pdb, 'w') as outfile:\n",
        "        lines = infile.readlines()\n",
        "\n",
        "        chain_a_residues = []\n",
        "        chain_b_residues = []\n",
        "\n",
        "        # Separate residues from chain A and chain B\n",
        "        for line in lines:\n",
        "            if line.startswith(\"ATOM\") or line.startswith(\"HETATM\"):\n",
        "                chain_id = line[21]\n",
        "                if chain_id == 'A':\n",
        "                    chain_a_residues.append(line)\n",
        "                elif chain_id == 'B':\n",
        "                    chain_b_residues.append(line)\n",
        "\n",
        "        # Renumber residues and atoms, swap chains\n",
        "        def renumber_and_write_residues(residues, new_chain_id, start_residue_num, start_atom_num):\n",
        "            current_residue_num = start_residue_num\n",
        "            current_atom_num = start_atom_num\n",
        "            previous_residue_id = None\n",
        "\n",
        "            for line in residues:\n",
        "                residue_id = line[22:26].strip()\n",
        "                if residue_id != previous_residue_id:\n",
        "                    current_residue_num += 1\n",
        "                    previous_residue_id = residue_id\n",
        "\n",
        "                new_line = (line[:6] + f\"{current_atom_num:>5}\" + line[11:21] + new_chain_id +\n",
        "                            f\"{current_residue_num:>4}\" + line[26:])\n",
        "\n",
        "                outfile.write(new_line)\n",
        "                current_atom_num += 1\n",
        "\n",
        "            return current_residue_num, current_atom_num\n",
        "\n",
        "        # First write chain B residues as new chain A\n",
        "        last_residue_num, last_atom_num = renumber_and_write_residues(chain_b_residues, 'A', 0, 1)\n",
        "\n",
        "        # Then write chain A residues as new chain B\n",
        "        renumber_and_write_residues(chain_a_residues, 'B', last_residue_num, last_atom_num)\n",
        "\n",
        "# Usage example\n",
        "input_pdb = 'input_file.pdb'    # Replace with your PDB file name\n",
        "output_pdb = 'output_file.pdb'  # Name for the output file with swapped and renumbered chains\n",
        "\n",
        "swap_and_renumber_pdb(input_pdb, output_pdb)"
      ],
      "metadata": {
        "id": "NWVNVZsVvl5T"
      },
      "execution_count": null,
      "outputs": []
    },
    {
      "cell_type": "markdown",
      "metadata": {
        "id": "QR6krKE5wFFw"
      },
      "source": [
        "**For 3 chains:**"
      ]
    },
    {
      "cell_type": "code",
      "source": [
        "def swap_and_renumber_pdb(input_pdb, output_pdb):\n",
        "    with open(input_pdb, 'r') as infile, open(output_pdb, 'w') as outfile:\n",
        "        lines = infile.readlines()\n",
        "\n",
        "        chain_a_residues = []\n",
        "        chain_b_residues = []\n",
        "        chain_c_residues = []\n",
        "\n",
        "        # Separate residues from chains A, B, and C\n",
        "        for line in lines:\n",
        "            if line.startswith(\"ATOM\") or line.startswith(\"HETATM\"):\n",
        "                chain_id = line[21]\n",
        "                if chain_id == 'A':\n",
        "                    chain_a_residues.append(line)\n",
        "                elif chain_id == 'B':\n",
        "                    chain_b_residues.append(line)\n",
        "                elif chain_id == 'C':\n",
        "                    chain_c_residues.append(line)\n",
        "\n",
        "        # Renumber residues and atoms, swap chains cyclically\n",
        "        def renumber_and_write_residues(residues, new_chain_id, start_residue_num, start_atom_num):\n",
        "            current_residue_num = start_residue_num\n",
        "            current_atom_num = start_atom_num\n",
        "            previous_residue_id = None\n",
        "\n",
        "            for line in residues:\n",
        "                residue_id = line[22:26].strip()\n",
        "                if residue_id != previous_residue_id:\n",
        "                    current_residue_num += 1\n",
        "                    previous_residue_id = residue_id\n",
        "\n",
        "                new_line = (line[:6] + f\"{current_atom_num:>5}\" + line[11:21] + new_chain_id +\n",
        "                            f\"{current_residue_num:>4}\" + line[26:])\n",
        "\n",
        "                outfile.write(new_line)\n",
        "                current_atom_num += 1\n",
        "\n",
        "            return current_residue_num, current_atom_num\n",
        "\n",
        "        # Swap and renumber chains cyclically\n",
        "        last_residue_num, last_atom_num = renumber_and_write_residues(chain_c_residues, 'A', 0, 1)\n",
        "        last_residue_num, last_atom_num = renumber_and_write_residues(chain_a_residues, 'B', last_residue_num, last_atom_num)\n",
        "        renumber_and_write_residues(chain_b_residues, 'C', last_residue_num, last_atom_num)\n",
        "\n",
        "# Usage example\n",
        "input_pdb = 'input_file1.pdb'    # Replace with your PDB file name\n",
        "output_pdb = 'output_file1.pdb'  # Name for the output file with swapped and renumbered chains\n",
        "\n",
        "swap_and_renumber_pdb(input_pdb, output_pdb)\n"
      ],
      "metadata": {
        "id": "ymXuW_Isc3OY"
      },
      "execution_count": null,
      "outputs": []
    }
  ],
  "metadata": {
    "accelerator": "GPU",
    "colab": {
      "gpuType": "T4",
      "provenance": [],
      "include_colab_link": true
    },
    "kernelspec": {
      "display_name": "Python 3",
      "name": "python3"
    },
    "language_info": {
      "name": "python"
    }
  },
  "nbformat": 4,
  "nbformat_minor": 0
}